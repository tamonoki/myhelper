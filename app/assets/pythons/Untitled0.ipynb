{
 "metadata": {
  "name": "",
  "signature": "sha256:43cc422efde3a9b982ccf62459c5608fc130c082d331ef2516b5cbfa0cc4d3fb"
 },
 "nbformat": 3,
 "nbformat_minor": 0,
 "worksheets": []
}